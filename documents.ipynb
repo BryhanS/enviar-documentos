{
 "cells": [
  {
   "cell_type": "code",
   "execution_count": 1,
   "metadata": {},
   "outputs": [
    {
     "name": "stderr",
     "output_type": "stream",
     "text": [
      "/Users/CATAPU/Documents/catapu-code-project/osiptel-ventas/venv/lib/python3.9/site-packages/urllib3/__init__.py:35: NotOpenSSLWarning: urllib3 v2 only supports OpenSSL 1.1.1+, currently the 'ssl' module is compiled with 'LibreSSL 2.8.3'. See: https://github.com/urllib3/urllib3/issues/3020\n",
      "  warnings.warn(\n"
     ]
    }
   ],
   "source": [
    "from dotenv import dotenv_values\n",
    "from datetime import datetime, timedelta\n",
    "import requests\n",
    "import os\n",
    "import wget\n",
    "import zipfile\n",
    "from os import path\n",
    "\n",
    "\n"
   ]
  },
  {
   "cell_type": "code",
   "execution_count": 18,
   "metadata": {},
   "outputs": [],
   "source": [
    "if not path.exists('./Documentos'):\n",
    "    os.mkdir('Documentos')\n",
    "    os.mkdir('Documentos/Online')\n",
    "    os.mkdir('Documentos/Tienda')\n"
   ]
  },
  {
   "cell_type": "code",
   "execution_count": 2,
   "metadata": {},
   "outputs": [
    {
     "data": {
      "text/plain": [
       "0"
      ]
     },
     "execution_count": 2,
     "metadata": {},
     "output_type": "execute_result"
    }
   ],
   "source": [
    "os.system(\"rm ./Documentos/Online/*.pdf\")\n",
    "os.system(\"rm ./Documentos/Tienda/*.pdf\")\n",
    "os.system(\"rm *.zip\")\n"
   ]
  },
  {
   "cell_type": "code",
   "execution_count": 13,
   "metadata": {},
   "outputs": [],
   "source": [
    "config = dotenv_values(\".env\")\n",
    "\n",
    "# Usar las variables de entorno\n",
    "api_key = config[\"API_KEY_SISTEMA\"]\n",
    "url = config[\"URL_SISTEMA\"]"
   ]
  },
  {
   "cell_type": "code",
   "execution_count": 4,
   "metadata": {},
   "outputs": [],
   "source": [
    "day = datetime.now().date()\n",
    "day_week = day.strftime(\"%A\")\n",
    "intial_date = \"\"\n",
    "final_date = \"\"\n",
    "\n",
    "\n",
    "if day_week == 'Monday':\n",
    "    intial_date = (day - timedelta(days=3)).strftime(\"%Y%m%d\")\n",
    "    final_date = (day - timedelta(days=1)).strftime(\"%Y%m%d\")    \n",
    "else:\n",
    "    intial_date = (day - timedelta(days=1)).strftime(\"%Y%m%d\")\n",
    "    final_date = (day - timedelta(days=1)).strftime(\"%Y%m%d\")    \n",
    "\n",
    "\n",
    "\n",
    "url_path = f'{url}api/documents/lists/{intial_date}/{final_date}'"
   ]
  },
  {
   "cell_type": "code",
   "execution_count": 5,
   "metadata": {},
   "outputs": [],
   "source": [
    "\n",
    "# Headers with the API token\n",
    "headers = {\n",
    "    'Authorization': f'Bearer {api_key}',\n",
    "    'Content-Type': 'application/json',  # Adjust the content type as needed\n",
    "}\n",
    "\n",
    "# Make a GET request with headers\n",
    "response = requests.get(url_path, headers=headers)\n",
    "\n",
    "# Check if the request was successful (status code 200)\n",
    "if response.status_code == 200:\n",
    "    # The response data in JSON format\n",
    "    data_final = response.json()\n",
    "    # print('API Data:', data_final)s\n",
    "else:\n",
    "    # Print an error message if the request was not successful\n",
    "    print(f'Error in the request. Status code: {response.status_code}')\n",
    "    print('Error message:', response.text)\n"
   ]
  },
  {
   "cell_type": "code",
   "execution_count": 6,
   "metadata": {},
   "outputs": [],
   "source": [
    "\n",
    "json_data = data_final"
   ]
  },
  {
   "cell_type": "code",
   "execution_count": 7,
   "metadata": {},
   "outputs": [],
   "source": [
    "\n",
    "rows = []\n",
    "for documentos in json_data['data']:\n",
    "\n",
    "    download_path = \"\"\n",
    "\n",
    "    numComprobantePago = documentos[\"number\"].split('-')[0]\n",
    "    download_pdf = documentos[\"download_pdf\"]\n",
    "    if numComprobantePago == \"B001\" or numComprobantePago == \"F001\":\n",
    "        download_path = './Documentos/Tienda'\n",
    "\n",
    "        wget.download(download_pdf, out=download_path)\n",
    "    else:\n",
    "        download_path = './Documentos/Online'\n",
    "        download_pdf = documentos[\"download_pdf\"]\n",
    "        wget.download(download_pdf, out=download_path)    \n",
    "\n",
    "\n",
    "\n",
    "\n",
    "    "
   ]
  },
  {
   "cell_type": "markdown",
   "metadata": {},
   "source": []
  },
  {
   "cell_type": "code",
   "execution_count": 8,
   "metadata": {},
   "outputs": [],
   "source": [
    "\n",
    "def zip_dir(folder_path, zip_path):\n",
    "    with zipfile.ZipFile(zip_path, 'w', zipfile.ZIP_DEFLATED) as zipf:\n",
    "        for root, _, files in os.walk(folder_path):\n",
    "            for file in files:\n",
    "                zipf.write(os.path.join(root, file), os.path.relpath(os.path.join(root, file), folder_path))\n",
    "\n",
    "# Ruta de la carpeta que deseas comprimir\n",
    "folder_to_zip = './Documentos'\n",
    "\n",
    "# Ruta y nombre del archivo ZIP resultante\n",
    "zip_file_path = f'./{intial_date}-{final_date}.zip'\n",
    "\n",
    "# Comprimir la carpeta\n",
    "zip_dir(folder_to_zip, zip_file_path)"
   ]
  },
  {
   "cell_type": "code",
   "execution_count": 9,
   "metadata": {},
   "outputs": [],
   "source": [
    "import smtplib\n",
    "from email.mime.multipart import MIMEMultipart\n",
    "from email.mime.text import MIMEText\n",
    "from email.mime.application import MIMEApplication"
   ]
  },
  {
   "cell_type": "code",
   "execution_count": 10,
   "metadata": {},
   "outputs": [
    {
     "name": "stdout",
     "output_type": "stream",
     "text": [
      "Correo electrónico enviado con éxito.\n"
     ]
    }
   ],
   "source": [
    "# Configuración del servidor SMTP\n",
    "api_key = config[\"API_KEY_SISTEMA\"]\n",
    "\n",
    "smtp_server = 'smtpout.secureserver.net'\n",
    "smtp_port = 587  # Puerto SMTP (generalmente 587 o 465)\n",
    "smtp_username = config[\"EMAIL_USER\"]\n",
    "smtp_password = config[\"EMAIL_PASS\"]\n",
    "\n",
    "# Configuración del mensaje\n",
    "sender = config[\"EMAIL_USER\"]\n",
    "receiver = config[\"EMAIL_DEST\"]\n",
    "subject = f'Ventas del {intial_date}-{final_date} Facturador'\n",
    "body = 'Se envia los Documentos emitidos en los puntos de Venta'\n",
    "archivo_adjunto = zip_file_path\n",
    "\n",
    "# Crear el mensaje\n",
    "message = MIMEMultipart()\n",
    "message['From'] = sender\n",
    "message['To'] = ','.join(receiver)\n",
    "message['Subject'] = subject\n",
    "message.attach(MIMEText(body, 'plain'))\n",
    "\n",
    "# Adjuntar archivo ZIP\n",
    "with open(archivo_adjunto, 'rb') as f:\n",
    "    part = MIMEApplication(f.read(), Name=archivo_adjunto)\n",
    "    part['Content-Disposition'] = f'attachment; filename=\"{archivo_adjunto}\"'\n",
    "    message.attach(part)\n",
    "\n",
    "# Iniciar sesión en el servidor SMTP y enviar el correo\n",
    "with smtplib.SMTP(smtp_server, smtp_port) as server:\n",
    "    server.starttls()  # Habilitar cifrado TLS\n",
    "    server.login(smtp_username, smtp_password)\n",
    "    server.sendmail(sender, receiver, message.as_string())\n",
    "\n",
    "print('Correo electrónico enviado con éxito.')"
   ]
  }
 ],
 "metadata": {
  "kernelspec": {
   "display_name": "venv",
   "language": "python",
   "name": "python3"
  },
  "language_info": {
   "codemirror_mode": {
    "name": "ipython",
    "version": 3
   },
   "file_extension": ".py",
   "mimetype": "text/x-python",
   "name": "python",
   "nbconvert_exporter": "python",
   "pygments_lexer": "ipython3",
   "version": "3.9.6"
  }
 },
 "nbformat": 4,
 "nbformat_minor": 2
}
